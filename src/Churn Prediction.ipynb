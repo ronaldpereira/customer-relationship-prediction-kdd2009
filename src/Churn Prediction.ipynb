{
 "cells": [
  {
   "cell_type": "code",
   "execution_count": null,
   "metadata": {},
   "outputs": [],
   "source": [
    "import pandas as pd"
   ]
  },
  {
   "cell_type": "code",
   "execution_count": null,
   "metadata": {},
   "outputs": [],
   "source": [
    "small_data_folder_path = \"../data/small/\""
   ]
  },
  {
   "cell_type": "code",
   "execution_count": null,
   "metadata": {},
   "outputs": [],
   "source": [
    "train = pd.read_csv(\n",
    "    small_data_folder_path + \"train/orange_small_train.data\",\n",
    "    sep=\"\\t\",\n",
    ")\n",
    "train.head()"
   ]
  },
  {
   "cell_type": "code",
   "execution_count": null,
   "metadata": {},
   "outputs": [],
   "source": [
    "churn_label = (\n",
    "    pd.read_csv(\n",
    "        small_data_folder_path + \"labels/orange_small_train_churn.labels\",\n",
    "        sep=\"\\t\",\n",
    "        header=None,\n",
    "    )\n",
    "    .iloc[:, 0]\n",
    "    .astype(\"category\")\n",
    ")\n",
    "\n",
    "churn_label.cat.rename_categories([\"no\", \"yes\"], inplace=True)\n",
    "\n",
    "churn_label.head()"
   ]
  },
  {
   "cell_type": "code",
   "execution_count": null,
   "metadata": {},
   "outputs": [],
   "source": [
    "test = pd.read_csv(\n",
    "    small_data_folder_path + \"test/orange_small_test.data\",\n",
    "    sep=\"\\t\",\n",
    "    na_values=na_strings,\n",
    ")\n",
    "test.head()"
   ]
  },
  {
   "cell_type": "code",
   "execution_count": null,
   "metadata": {},
   "outputs": [],
   "source": [
    "def convert_dataframe(df):\n",
    "    df_columns = df.columns\n",
    "    print(df_columns)\n",
    "\n",
    "    df_dtypes = {df_col: df[df_col].dtype for df_col in df_columns}\n",
    "\n",
    "    print(df_dtypes)\n",
    "\n",
    "    for df_col in df_columns:\n",
    "        if df_dtypes[df_col] != float:\n",
    "            df = df[df_col].astype(\"category\")\n",
    "            df.loc[:, df_col] = df\n",
    "            df[df_col] = df.dtype\n",
    "\n",
    "    return df"
   ]
  },
  {
   "cell_type": "code",
   "execution_count": null,
   "metadata": {},
   "outputs": [],
   "source": [
    "convert_dataframe(train)"
   ]
  },
  {
   "cell_type": "code",
   "execution_count": null,
   "metadata": {},
   "outputs": [],
   "source": []
  }
 ],
 "metadata": {
  "kernelspec": {
   "display_name": "Python 3",
   "language": "python",
   "name": "python3"
  },
  "language_info": {
   "codemirror_mode": {
    "name": "ipython",
    "version": 3
   },
   "file_extension": ".py",
   "mimetype": "text/x-python",
   "name": "python",
   "nbconvert_exporter": "python",
   "pygments_lexer": "ipython3",
   "version": "3.7.3"
  }
 },
 "nbformat": 4,
 "nbformat_minor": 2
}
