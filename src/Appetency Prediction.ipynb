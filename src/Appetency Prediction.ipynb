{
 "cells": [
  {
   "cell_type": "code",
   "execution_count": 1,
   "metadata": {},
   "outputs": [],
   "source": [
    "%matplotlib inline"
   ]
  },
  {
   "cell_type": "code",
   "execution_count": 2,
   "metadata": {},
   "outputs": [],
   "source": [
    "import pandas as pd\n",
    "import matplotlib.pyplot as plt\n",
    "\n",
    "from sklearn.model_selection import train_test_split\n",
    "from sklearn.metrics import auc, roc_curve\n",
    "from sklearn.ensemble import GradientBoostingClassifier, RandomForestClassifier\n",
    "from sklearn.svm import SVC\n",
    "from sklearn.preprocessing import MinMaxScaler\n",
    "\n",
    "import xgboost\n",
    "import graphviz\n",
    "\n",
    "RANDOM_SEED = 1212"
   ]
  },
  {
   "cell_type": "markdown",
   "metadata": {},
   "source": [
    "## Data Loading"
   ]
  },
  {
   "cell_type": "code",
   "execution_count": 3,
   "metadata": {},
   "outputs": [
    {
     "data": {
      "text/html": [
       "<div>\n",
       "<style scoped>\n",
       "    .dataframe tbody tr th:only-of-type {\n",
       "        vertical-align: middle;\n",
       "    }\n",
       "\n",
       "    .dataframe tbody tr th {\n",
       "        vertical-align: top;\n",
       "    }\n",
       "\n",
       "    .dataframe thead th {\n",
       "        text-align: right;\n",
       "    }\n",
       "</style>\n",
       "<table border=\"1\" class=\"dataframe\">\n",
       "  <thead>\n",
       "    <tr style=\"text-align: right;\">\n",
       "      <th></th>\n",
       "      <th>Var1</th>\n",
       "      <th>Var2</th>\n",
       "      <th>Var3</th>\n",
       "      <th>Var4</th>\n",
       "      <th>Var5</th>\n",
       "      <th>Var6</th>\n",
       "      <th>Var7</th>\n",
       "      <th>Var8</th>\n",
       "      <th>Var9</th>\n",
       "      <th>Var10</th>\n",
       "      <th>...</th>\n",
       "      <th>Var221</th>\n",
       "      <th>Var222</th>\n",
       "      <th>Var223</th>\n",
       "      <th>Var224</th>\n",
       "      <th>Var225</th>\n",
       "      <th>Var226</th>\n",
       "      <th>Var227</th>\n",
       "      <th>Var228</th>\n",
       "      <th>Var229</th>\n",
       "      <th>Var230</th>\n",
       "    </tr>\n",
       "  </thead>\n",
       "  <tbody>\n",
       "    <tr>\n",
       "      <th>0</th>\n",
       "      <td>NaN</td>\n",
       "      <td>NaN</td>\n",
       "      <td>NaN</td>\n",
       "      <td>NaN</td>\n",
       "      <td>NaN</td>\n",
       "      <td>1526.0</td>\n",
       "      <td>7.0</td>\n",
       "      <td>NaN</td>\n",
       "      <td>NaN</td>\n",
       "      <td>NaN</td>\n",
       "      <td>...</td>\n",
       "      <td>oslk</td>\n",
       "      <td>fXVEsaq</td>\n",
       "      <td>jySVZNlOJy</td>\n",
       "      <td>NaN</td>\n",
       "      <td>NaN</td>\n",
       "      <td>xb3V</td>\n",
       "      <td>RAYp</td>\n",
       "      <td>F2FyR07IdsN7I</td>\n",
       "      <td>NaN</td>\n",
       "      <td>NaN</td>\n",
       "    </tr>\n",
       "    <tr>\n",
       "      <th>1</th>\n",
       "      <td>NaN</td>\n",
       "      <td>NaN</td>\n",
       "      <td>NaN</td>\n",
       "      <td>NaN</td>\n",
       "      <td>NaN</td>\n",
       "      <td>525.0</td>\n",
       "      <td>0.0</td>\n",
       "      <td>NaN</td>\n",
       "      <td>NaN</td>\n",
       "      <td>NaN</td>\n",
       "      <td>...</td>\n",
       "      <td>oslk</td>\n",
       "      <td>2Kb5FSF</td>\n",
       "      <td>LM8l689qOp</td>\n",
       "      <td>NaN</td>\n",
       "      <td>NaN</td>\n",
       "      <td>fKCe</td>\n",
       "      <td>RAYp</td>\n",
       "      <td>F2FyR07IdsN7I</td>\n",
       "      <td>NaN</td>\n",
       "      <td>NaN</td>\n",
       "    </tr>\n",
       "    <tr>\n",
       "      <th>2</th>\n",
       "      <td>NaN</td>\n",
       "      <td>NaN</td>\n",
       "      <td>NaN</td>\n",
       "      <td>NaN</td>\n",
       "      <td>NaN</td>\n",
       "      <td>5236.0</td>\n",
       "      <td>7.0</td>\n",
       "      <td>NaN</td>\n",
       "      <td>NaN</td>\n",
       "      <td>NaN</td>\n",
       "      <td>...</td>\n",
       "      <td>Al6ZaUT</td>\n",
       "      <td>NKv4yOc</td>\n",
       "      <td>jySVZNlOJy</td>\n",
       "      <td>NaN</td>\n",
       "      <td>kG3k</td>\n",
       "      <td>Qu4f</td>\n",
       "      <td>02N6s8f</td>\n",
       "      <td>ib5G6X1eUxUn6</td>\n",
       "      <td>am7c</td>\n",
       "      <td>NaN</td>\n",
       "    </tr>\n",
       "    <tr>\n",
       "      <th>3</th>\n",
       "      <td>NaN</td>\n",
       "      <td>NaN</td>\n",
       "      <td>NaN</td>\n",
       "      <td>NaN</td>\n",
       "      <td>NaN</td>\n",
       "      <td>NaN</td>\n",
       "      <td>0.0</td>\n",
       "      <td>NaN</td>\n",
       "      <td>NaN</td>\n",
       "      <td>NaN</td>\n",
       "      <td>...</td>\n",
       "      <td>oslk</td>\n",
       "      <td>CE7uk3u</td>\n",
       "      <td>LM8l689qOp</td>\n",
       "      <td>NaN</td>\n",
       "      <td>NaN</td>\n",
       "      <td>FSa2</td>\n",
       "      <td>RAYp</td>\n",
       "      <td>F2FyR07IdsN7I</td>\n",
       "      <td>NaN</td>\n",
       "      <td>NaN</td>\n",
       "    </tr>\n",
       "    <tr>\n",
       "      <th>4</th>\n",
       "      <td>NaN</td>\n",
       "      <td>NaN</td>\n",
       "      <td>NaN</td>\n",
       "      <td>NaN</td>\n",
       "      <td>NaN</td>\n",
       "      <td>1029.0</td>\n",
       "      <td>7.0</td>\n",
       "      <td>NaN</td>\n",
       "      <td>NaN</td>\n",
       "      <td>NaN</td>\n",
       "      <td>...</td>\n",
       "      <td>oslk</td>\n",
       "      <td>1J2cvxe</td>\n",
       "      <td>LM8l689qOp</td>\n",
       "      <td>NaN</td>\n",
       "      <td>kG3k</td>\n",
       "      <td>FSa2</td>\n",
       "      <td>RAYp</td>\n",
       "      <td>F2FyR07IdsN7I</td>\n",
       "      <td>mj86</td>\n",
       "      <td>NaN</td>\n",
       "    </tr>\n",
       "  </tbody>\n",
       "</table>\n",
       "<p>5 rows × 230 columns</p>\n",
       "</div>"
      ],
      "text/plain": [
       "   Var1  Var2  Var3  Var4  Var5    Var6  Var7  Var8  Var9  Var10  ...  \\\n",
       "0   NaN   NaN   NaN   NaN   NaN  1526.0   7.0   NaN   NaN    NaN  ...   \n",
       "1   NaN   NaN   NaN   NaN   NaN   525.0   0.0   NaN   NaN    NaN  ...   \n",
       "2   NaN   NaN   NaN   NaN   NaN  5236.0   7.0   NaN   NaN    NaN  ...   \n",
       "3   NaN   NaN   NaN   NaN   NaN     NaN   0.0   NaN   NaN    NaN  ...   \n",
       "4   NaN   NaN   NaN   NaN   NaN  1029.0   7.0   NaN   NaN    NaN  ...   \n",
       "\n",
       "    Var221   Var222      Var223  Var224  Var225  Var226   Var227  \\\n",
       "0     oslk  fXVEsaq  jySVZNlOJy     NaN     NaN    xb3V     RAYp   \n",
       "1     oslk  2Kb5FSF  LM8l689qOp     NaN     NaN    fKCe     RAYp   \n",
       "2  Al6ZaUT  NKv4yOc  jySVZNlOJy     NaN    kG3k    Qu4f  02N6s8f   \n",
       "3     oslk  CE7uk3u  LM8l689qOp     NaN     NaN    FSa2     RAYp   \n",
       "4     oslk  1J2cvxe  LM8l689qOp     NaN    kG3k    FSa2     RAYp   \n",
       "\n",
       "          Var228  Var229  Var230  \n",
       "0  F2FyR07IdsN7I     NaN     NaN  \n",
       "1  F2FyR07IdsN7I     NaN     NaN  \n",
       "2  ib5G6X1eUxUn6    am7c     NaN  \n",
       "3  F2FyR07IdsN7I     NaN     NaN  \n",
       "4  F2FyR07IdsN7I    mj86     NaN  \n",
       "\n",
       "[5 rows x 230 columns]"
      ]
     },
     "execution_count": 3,
     "metadata": {},
     "output_type": "execute_result"
    }
   ],
   "source": [
    "train = pd.read_csv('../data/small/train/orange_small_train.data', sep=\"\\t\")\n",
    "train.head()"
   ]
  },
  {
   "cell_type": "code",
   "execution_count": 4,
   "metadata": {},
   "outputs": [
    {
     "data": {
      "text/plain": [
       "0    0\n",
       "1    0\n",
       "2    0\n",
       "3    0\n",
       "4    0\n",
       "Name: 0, dtype: category\n",
       "Categories (2, int64): [0, 1]"
      ]
     },
     "execution_count": 4,
     "metadata": {},
     "output_type": "execute_result"
    }
   ],
   "source": [
    "appetency_label = (\n",
    "    pd.read_csv(\n",
    "        \"../data/small/labels/orange_small_train_appetency.labels\", sep=\"\\t\", header=None\n",
    "    )\n",
    "    .iloc[:, 0]\n",
    "    .astype(\"category\")\n",
    ")\n",
    "\n",
    "appetency_label.cat.rename_categories([0, 1], inplace=True)\n",
    "\n",
    "appetency_label.head()"
   ]
  },
  {
   "cell_type": "markdown",
   "metadata": {},
   "source": [
    "## Dataframe Conversion"
   ]
  },
  {
   "cell_type": "code",
   "execution_count": 5,
   "metadata": {},
   "outputs": [],
   "source": [
    "def convert_dataframe(DF):\n",
    "    df_var_names = DF.columns\n",
    "\n",
    "    df_types = {df_var_name: DF[df_var_name].dtype for df_var_name in df_var_names}\n",
    "\n",
    "    for df_var_name in df_var_names:\n",
    "        if df_types[df_var_name] == int:\n",
    "            df = DF[df_var_name].astype(float)\n",
    "            DF.loc[:, df_var_name] = df\n",
    "            df_types[df_var_name] = df.dtype\n",
    "\n",
    "        elif df_types[df_var_name] != float:\n",
    "            df = DF[df_var_name].astype(\"category\")\n",
    "            DF.loc[:, df_var_name] = df\n",
    "            df_types[df_var_name] = df.dtype\n",
    "\n",
    "    return DF, df_types"
   ]
  },
  {
   "cell_type": "code",
   "execution_count": 6,
   "metadata": {},
   "outputs": [],
   "source": [
    "train, train_types = convert_dataframe(train)"
   ]
  },
  {
   "cell_type": "markdown",
   "metadata": {},
   "source": [
    "## Data Cleaning and Filling"
   ]
  },
  {
   "cell_type": "code",
   "execution_count": 7,
   "metadata": {},
   "outputs": [],
   "source": [
    "def plot_missing_data(train):\n",
    "    train_missing = train.isnull().sum() / train.shape[0]\n",
    "\n",
    "    plt.figure(figsize=(15,5))\n",
    "    \n",
    "    plt.hist(train_missing, bins=50)\n",
    "\n",
    "    plt.title(\"Missing data proportions on Train set\")\n",
    "    plt.show()"
   ]
  },
  {
   "cell_type": "code",
   "execution_count": 8,
   "metadata": {},
   "outputs": [
    {
     "data": {
      "image/png": "[encoded data removed]",
      "text/plain": [
       "<Figure size 1080x360 with 1 Axes>"
      ]
     },
     "metadata": {
      "needs_background": "light"
     },
     "output_type": "display_data"
    }
   ],
   "source": [
    "plot_missing_data(train)"
   ]
  },
  {
   "cell_type": "markdown",
   "metadata": {},
   "source": [
    "I'll consider valid only features that have less than 15% missing data of its total data as our model features"
   ]
  },
  {
   "cell_type": "code",
   "execution_count": 9,
   "metadata": {},
   "outputs": [
    {
     "name": "stdout",
     "output_type": "stream",
     "text": [
      "Index(['Var6', 'Var7', 'Var13', 'Var21', 'Var22', 'Var24', 'Var25', 'Var28',\n",
      "       'Var35', 'Var38', 'Var44', 'Var57', 'Var65', 'Var73', 'Var74', 'Var76',\n",
      "       'Var78', 'Var81', 'Var83', 'Var85', 'Var109', 'Var112', 'Var113',\n",
      "       'Var119', 'Var123', 'Var125', 'Var132', 'Var133', 'Var134', 'Var140',\n",
      "       'Var143', 'Var144', 'Var149', 'Var153', 'Var160', 'Var163', 'Var173',\n",
      "       'Var181', 'Var192', 'Var193', 'Var195', 'Var196', 'Var197', 'Var198',\n",
      "       'Var199', 'Var202', 'Var203', 'Var204', 'Var205', 'Var206', 'Var207',\n",
      "       'Var208', 'Var210', 'Var211', 'Var212', 'Var216', 'Var217', 'Var218',\n",
      "       'Var219', 'Var220', 'Var221', 'Var222', 'Var223', 'Var226', 'Var227',\n",
      "       'Var228'],\n",
      "      dtype='object')\n",
      "66\n"
     ]
    }
   ],
   "source": [
    "train_missing = train.isnull().sum() / train.shape[0]\n",
    "features = train_missing[train_missing <= 0.15].index\n",
    "\n",
    "print(features)\n",
    "print(len(features))"
   ]
  },
  {
   "cell_type": "markdown",
   "metadata": {},
   "source": [
    "Filling the missing numeric values with respective column mean values"
   ]
  },
  {
   "cell_type": "code",
   "execution_count": 10,
   "metadata": {},
   "outputs": [
    {
     "name": "stdout",
     "output_type": "stream",
     "text": [
      "['Var6', 'Var7', 'Var13', 'Var21', 'Var22', 'Var24', 'Var25', 'Var28', 'Var35', 'Var38', 'Var44', 'Var57', 'Var65', 'Var73', 'Var74', 'Var76', 'Var78', 'Var81', 'Var83', 'Var85', 'Var109', 'Var112', 'Var113', 'Var119', 'Var123', 'Var125', 'Var132', 'Var133', 'Var134', 'Var140', 'Var143', 'Var144', 'Var149', 'Var153', 'Var160', 'Var163', 'Var173', 'Var181']\n",
      "38\n"
     ]
    }
   ],
   "source": [
    "numeric_features = [feat for feat in features if train_types[feat] == float]\n",
    "\n",
    "print(numeric_features)\n",
    "print(len(numeric_features))"
   ]
  },
  {
   "cell_type": "code",
   "execution_count": 11,
   "metadata": {},
   "outputs": [],
   "source": [
    "train[numeric_features] = train[numeric_features].fillna(\n",
    "    train[numeric_features].mean()\n",
    ")"
   ]
  },
  {
   "cell_type": "code",
   "execution_count": 12,
   "metadata": {},
   "outputs": [
    {
     "data": {
      "image/png": "[encoded data removed]",
      "text/plain": [
       "<Figure size 1080x360 with 1 Axes>"
      ]
     },
     "metadata": {
      "needs_background": "light"
     },
     "output_type": "display_data"
    }
   ],
   "source": [
    "plot_missing_data(train)"
   ]
  },
  {
   "cell_type": "markdown",
   "metadata": {},
   "source": [
    "I'll now remove the categorical features that have more than 400 categories in it"
   ]
  },
  {
   "cell_type": "code",
   "execution_count": 13,
   "metadata": {},
   "outputs": [
    {
     "name": "stdout",
     "output_type": "stream",
     "text": [
      "['Var192', 'Var193', 'Var195', 'Var196', 'Var197', 'Var198', 'Var199', 'Var202', 'Var203', 'Var204', 'Var205', 'Var206', 'Var207', 'Var208', 'Var210', 'Var211', 'Var212', 'Var216', 'Var217', 'Var218', 'Var219', 'Var220', 'Var221', 'Var222', 'Var223', 'Var226', 'Var227', 'Var228']\n",
      "28\n"
     ]
    }
   ],
   "source": [
    "categorical_features = [feat for feat in features if train_types[feat] != float]\n",
    "\n",
    "print(categorical_features)\n",
    "print(len(categorical_features))"
   ]
  },
  {
   "cell_type": "code",
   "execution_count": 14,
   "metadata": {},
   "outputs": [
    {
     "name": "stdout",
     "output_type": "stream",
     "text": [
      "['Var192', 'Var193', 'Var195', 'Var196', 'Var197', 'Var203', 'Var204', 'Var205', 'Var206', 'Var207', 'Var208', 'Var210', 'Var211', 'Var212', 'Var218', 'Var219', 'Var221', 'Var223', 'Var226', 'Var227', 'Var228']\n",
      "21\n"
     ]
    }
   ],
   "source": [
    "categorical_levels = train[categorical_features].apply(lambda col: len(col.cat.categories))\n",
    "\n",
    "categorical_features_filtered = categorical_levels[categorical_levels <= 400].index.tolist()\n",
    "print(categorical_features_filtered)\n",
    "print(len(categorical_features_filtered))"
   ]
  },
  {
   "cell_type": "code",
   "execution_count": 15,
   "metadata": {},
   "outputs": [
    {
     "name": "stdout",
     "output_type": "stream",
     "text": [
      "['Var6', 'Var7', 'Var13', 'Var21', 'Var22', 'Var24', 'Var25', 'Var28', 'Var35', 'Var38', 'Var44', 'Var57', 'Var65', 'Var73', 'Var74', 'Var76', 'Var78', 'Var81', 'Var83', 'Var85', 'Var109', 'Var112', 'Var113', 'Var119', 'Var123', 'Var125', 'Var132', 'Var133', 'Var134', 'Var140', 'Var143', 'Var144', 'Var149', 'Var153', 'Var160', 'Var163', 'Var173', 'Var181', 'Var192', 'Var193', 'Var195', 'Var196', 'Var197', 'Var203', 'Var204', 'Var205', 'Var206', 'Var207', 'Var208', 'Var210', 'Var211', 'Var212', 'Var218', 'Var219', 'Var221', 'Var223', 'Var226', 'Var227', 'Var228']\n",
      "59\n"
     ]
    }
   ],
   "source": [
    "features_filtered = numeric_features + categorical_features_filtered\n",
    "print(features_filtered)\n",
    "print(len(features_filtered))"
   ]
  },
  {
   "cell_type": "markdown",
   "metadata": {},
   "source": [
    "Feature Selection"
   ]
  },
  {
   "cell_type": "code",
   "execution_count": 16,
   "metadata": {},
   "outputs": [],
   "source": [
    "train = train[features_filtered]"
   ]
  },
  {
   "cell_type": "markdown",
   "metadata": {},
   "source": [
    "Getting dummy variables for category columns"
   ]
  },
  {
   "cell_type": "code",
   "execution_count": 17,
   "metadata": {},
   "outputs": [],
   "source": [
    "train = pd.get_dummies(train, dtype=bool)"
   ]
  },
  {
   "cell_type": "markdown",
   "metadata": {},
   "source": [
    "Scaling between $[0,1]$ numeric features"
   ]
  },
  {
   "cell_type": "code",
   "execution_count": 18,
   "metadata": {},
   "outputs": [],
   "source": [
    "scaler = MinMaxScaler()\n",
    "train[numeric_features] = scaler.fit_transform(train[numeric_features])"
   ]
  },
  {
   "cell_type": "code",
   "execution_count": 19,
   "metadata": {},
   "outputs": [
    {
     "data": {
      "text/html": [
       "<div>\n",
       "<style scoped>\n",
       "    .dataframe tbody tr th:only-of-type {\n",
       "        vertical-align: middle;\n",
       "    }\n",
       "\n",
       "    .dataframe tbody tr th {\n",
       "        vertical-align: top;\n",
       "    }\n",
       "\n",
       "    .dataframe thead th {\n",
       "        text-align: right;\n",
       "    }\n",
       "</style>\n",
       "<table border=\"1\" class=\"dataframe\">\n",
       "  <thead>\n",
       "    <tr style=\"text-align: right;\">\n",
       "      <th></th>\n",
       "      <th>Var6</th>\n",
       "      <th>Var7</th>\n",
       "      <th>Var13</th>\n",
       "      <th>Var21</th>\n",
       "      <th>Var22</th>\n",
       "      <th>Var24</th>\n",
       "      <th>Var25</th>\n",
       "      <th>Var28</th>\n",
       "      <th>Var35</th>\n",
       "      <th>Var38</th>\n",
       "      <th>...</th>\n",
       "      <th>Var228__URKn_77G3QyQHSVQ2N1RKmtW</th>\n",
       "      <th>Var228__cTCyH95OE93jSkoIBT</th>\n",
       "      <th>Var228_am14IcfM7tWLrUmRT52KtA</th>\n",
       "      <th>Var228_b9qbUNk0dML_Mvi2</th>\n",
       "      <th>Var228_d0LtHjWeaXyArdN4sxU_saXqH</th>\n",
       "      <th>Var228_ib5G6X1eUxUn6</th>\n",
       "      <th>Var228_iyHGyLCEkQ</th>\n",
       "      <th>Var228_n1OBWGkV3fbsHR75taC</th>\n",
       "      <th>Var228_r_7E</th>\n",
       "      <th>Var228_xwM2aC7IdeMC0</th>\n",
       "    </tr>\n",
       "  </thead>\n",
       "  <tbody>\n",
       "    <tr>\n",
       "      <th>0</th>\n",
       "      <td>0.011582</td>\n",
       "      <td>0.05</td>\n",
       "      <td>0.000930</td>\n",
       "      <td>0.012792</td>\n",
       "      <td>0.012792</td>\n",
       "      <td>0.028340</td>\n",
       "      <td>0.009721</td>\n",
       "      <td>0.044674</td>\n",
       "      <td>0.0</td>\n",
       "      <td>0.000189</td>\n",
       "      <td>...</td>\n",
       "      <td>False</td>\n",
       "      <td>False</td>\n",
       "      <td>False</td>\n",
       "      <td>False</td>\n",
       "      <td>False</td>\n",
       "      <td>False</td>\n",
       "      <td>False</td>\n",
       "      <td>False</td>\n",
       "      <td>False</td>\n",
       "      <td>False</td>\n",
       "    </tr>\n",
       "    <tr>\n",
       "      <th>1</th>\n",
       "      <td>0.003984</td>\n",
       "      <td>0.00</td>\n",
       "      <td>0.000000</td>\n",
       "      <td>0.004632</td>\n",
       "      <td>0.004632</td>\n",
       "      <td>0.004049</td>\n",
       "      <td>0.001823</td>\n",
       "      <td>0.080453</td>\n",
       "      <td>0.0</td>\n",
       "      <td>0.252825</td>\n",
       "      <td>...</td>\n",
       "      <td>False</td>\n",
       "      <td>False</td>\n",
       "      <td>False</td>\n",
       "      <td>False</td>\n",
       "      <td>False</td>\n",
       "      <td>False</td>\n",
       "      <td>False</td>\n",
       "      <td>False</td>\n",
       "      <td>False</td>\n",
       "      <td>False</td>\n",
       "    </tr>\n",
       "    <tr>\n",
       "      <th>2</th>\n",
       "      <td>0.039739</td>\n",
       "      <td>0.05</td>\n",
       "      <td>0.004569</td>\n",
       "      <td>0.033414</td>\n",
       "      <td>0.033414</td>\n",
       "      <td>0.052632</td>\n",
       "      <td>0.061968</td>\n",
       "      <td>0.054916</td>\n",
       "      <td>0.0</td>\n",
       "      <td>0.312194</td>\n",
       "      <td>...</td>\n",
       "      <td>False</td>\n",
       "      <td>False</td>\n",
       "      <td>False</td>\n",
       "      <td>False</td>\n",
       "      <td>False</td>\n",
       "      <td>True</td>\n",
       "      <td>False</td>\n",
       "      <td>False</td>\n",
       "      <td>False</td>\n",
       "      <td>False</td>\n",
       "    </tr>\n",
       "    <tr>\n",
       "      <th>3</th>\n",
       "      <td>0.010067</td>\n",
       "      <td>0.00</td>\n",
       "      <td>0.000000</td>\n",
       "      <td>0.006466</td>\n",
       "      <td>0.000000</td>\n",
       "      <td>0.009125</td>\n",
       "      <td>0.000000</td>\n",
       "      <td>0.017024</td>\n",
       "      <td>0.0</td>\n",
       "      <td>0.000000</td>\n",
       "      <td>...</td>\n",
       "      <td>False</td>\n",
       "      <td>False</td>\n",
       "      <td>False</td>\n",
       "      <td>False</td>\n",
       "      <td>False</td>\n",
       "      <td>False</td>\n",
       "      <td>False</td>\n",
       "      <td>False</td>\n",
       "      <td>False</td>\n",
       "      <td>False</td>\n",
       "    </tr>\n",
       "    <tr>\n",
       "      <th>4</th>\n",
       "      <td>0.007810</td>\n",
       "      <td>0.05</td>\n",
       "      <td>0.016253</td>\n",
       "      <td>0.001764</td>\n",
       "      <td>0.001764</td>\n",
       "      <td>0.008097</td>\n",
       "      <td>0.004860</td>\n",
       "      <td>0.051073</td>\n",
       "      <td>0.0</td>\n",
       "      <td>0.000000</td>\n",
       "      <td>...</td>\n",
       "      <td>False</td>\n",
       "      <td>False</td>\n",
       "      <td>False</td>\n",
       "      <td>False</td>\n",
       "      <td>False</td>\n",
       "      <td>False</td>\n",
       "      <td>False</td>\n",
       "      <td>False</td>\n",
       "      <td>False</td>\n",
       "      <td>False</td>\n",
       "    </tr>\n",
       "  </tbody>\n",
       "</table>\n",
       "<p>5 rows × 1031 columns</p>\n",
       "</div>"
      ],
      "text/plain": [
       "       Var6  Var7     Var13     Var21     Var22     Var24     Var25     Var28  \\\n",
       "0  0.011582  0.05  0.000930  0.012792  0.012792  0.028340  0.009721  0.044674   \n",
       "1  0.003984  0.00  0.000000  0.004632  0.004632  0.004049  0.001823  0.080453   \n",
       "2  0.039739  0.05  0.004569  0.033414  0.033414  0.052632  0.061968  0.054916   \n",
       "3  0.010067  0.00  0.000000  0.006466  0.000000  0.009125  0.000000  0.017024   \n",
       "4  0.007810  0.05  0.016253  0.001764  0.001764  0.008097  0.004860  0.051073   \n",
       "\n",
       "   Var35     Var38  ...  Var228__URKn_77G3QyQHSVQ2N1RKmtW  \\\n",
       "0    0.0  0.000189  ...                             False   \n",
       "1    0.0  0.252825  ...                             False   \n",
       "2    0.0  0.312194  ...                             False   \n",
       "3    0.0  0.000000  ...                             False   \n",
       "4    0.0  0.000000  ...                             False   \n",
       "\n",
       "   Var228__cTCyH95OE93jSkoIBT  Var228_am14IcfM7tWLrUmRT52KtA  \\\n",
       "0                       False                          False   \n",
       "1                       False                          False   \n",
       "2                       False                          False   \n",
       "3                       False                          False   \n",
       "4                       False                          False   \n",
       "\n",
       "   Var228_b9qbUNk0dML_Mvi2  Var228_d0LtHjWeaXyArdN4sxU_saXqH  \\\n",
       "0                    False                             False   \n",
       "1                    False                             False   \n",
       "2                    False                             False   \n",
       "3                    False                             False   \n",
       "4                    False                             False   \n",
       "\n",
       "   Var228_ib5G6X1eUxUn6  Var228_iyHGyLCEkQ  Var228_n1OBWGkV3fbsHR75taC  \\\n",
       "0                 False              False                       False   \n",
       "1                 False              False                       False   \n",
       "2                  True              False                       False   \n",
       "3                 False              False                       False   \n",
       "4                 False              False                       False   \n",
       "\n",
       "   Var228_r_7E  Var228_xwM2aC7IdeMC0  \n",
       "0        False                 False  \n",
       "1        False                 False  \n",
       "2        False                 False  \n",
       "3        False                 False  \n",
       "4        False                 False  \n",
       "\n",
       "[5 rows x 1031 columns]"
      ]
     },
     "execution_count": 19,
     "metadata": {},
     "output_type": "execute_result"
    }
   ],
   "source": [
    "train.head()"
   ]
  },
  {
   "cell_type": "markdown",
   "metadata": {},
   "source": [
    "## Train, Validation and Test split"
   ]
  },
  {
   "cell_type": "code",
   "execution_count": 20,
   "metadata": {},
   "outputs": [],
   "source": [
    "x_train, x_test, y_train, y_test = train_test_split(\n",
    "    train, appetency_label, test_size=0.2, random_state=RANDOM_SEED\n",
    ")\n",
    "\n",
    "x_train, x_val, y_train, y_val = train_test_split(\n",
    "    x_train, y_train, test_size=0.2, random_state=RANDOM_SEED\n",
    ")"
   ]
  },
  {
   "cell_type": "code",
   "execution_count": 21,
   "metadata": {},
   "outputs": [
    {
     "name": "stdout",
     "output_type": "stream",
     "text": [
      "(32000, 1031)\n",
      "(8000, 1031)\n",
      "(10000, 1031)\n"
     ]
    }
   ],
   "source": [
    "print(x_train.shape)\n",
    "print(x_val.shape)\n",
    "print(x_test.shape)"
   ]
  },
  {
   "cell_type": "markdown",
   "metadata": {},
   "source": [
    "## Model Training"
   ]
  },
  {
   "cell_type": "markdown",
   "metadata": {},
   "source": [
    "### XGBoost Classifier"
   ]
  },
  {
   "cell_type": "code",
   "execution_count": 22,
   "metadata": {},
   "outputs": [],
   "source": [
    "xgb = xgboost.XGBClassifier(\n",
    "    n_jobs=8,\n",
    "    learning_rate=0.01,\n",
    "    max_depth=10,\n",
    "    n_estimators=2000,\n",
    "    random_state=RANDOM_SEED,\n",
    ")"
   ]
  },
  {
   "cell_type": "code",
   "execution_count": 23,
   "metadata": {},
   "outputs": [
    {
     "name": "stdout",
     "output_type": "stream",
     "text": [
      "[0]\tvalidation_0-auc:0.751811\n",
      "Will train until validation_0-auc hasn't improved in 50 rounds.\n",
      "[1]\tvalidation_0-auc:0.751795\n",
      "[2]\tvalidation_0-auc:0.751759\n",
      "[3]\tvalidation_0-auc:0.751756\n",
      "[4]\tvalidation_0-auc:0.751756\n",
      "[5]\tvalidation_0-auc:0.751757\n",
      "[6]\tvalidation_0-auc:0.751535\n",
      "[7]\tvalidation_0-auc:0.751535\n",
      "[8]\tvalidation_0-auc:0.751535\n",
      "[9]\tvalidation_0-auc:0.751535\n",
      "[10]\tvalidation_0-auc:0.751535\n",
      "[11]\tvalidation_0-auc:0.751535\n",
      "[12]\tvalidation_0-auc:0.751271\n",
      "[13]\tvalidation_0-auc:0.75127\n",
      "[14]\tvalidation_0-auc:0.75118\n",
      "[15]\tvalidation_0-auc:0.75118\n",
      "[16]\tvalidation_0-auc:0.75118\n",
      "[17]\tvalidation_0-auc:0.751178\n",
      "[18]\tvalidation_0-auc:0.751076\n",
      "[19]\tvalidation_0-auc:0.750818\n",
      "[20]\tvalidation_0-auc:0.750818\n",
      "[21]\tvalidation_0-auc:0.750818\n",
      "[22]\tvalidation_0-auc:0.75082\n",
      "[23]\tvalidation_0-auc:0.749933\n",
      "[24]\tvalidation_0-auc:0.750415\n",
      "[25]\tvalidation_0-auc:0.751401\n",
      "[26]\tvalidation_0-auc:0.751354\n",
      "[27]\tvalidation_0-auc:0.751314\n",
      "[28]\tvalidation_0-auc:0.751309\n",
      "[29]\tvalidation_0-auc:0.756366\n",
      "[30]\tvalidation_0-auc:0.756301\n",
      "[31]\tvalidation_0-auc:0.756086\n",
      "[32]\tvalidation_0-auc:0.756039\n",
      "[33]\tvalidation_0-auc:0.756041\n",
      "[34]\tvalidation_0-auc:0.7573\n",
      "[35]\tvalidation_0-auc:0.757293\n",
      "[36]\tvalidation_0-auc:0.757293\n",
      "[37]\tvalidation_0-auc:0.757289\n",
      "[38]\tvalidation_0-auc:0.757293\n",
      "[39]\tvalidation_0-auc:0.757295\n",
      "[40]\tvalidation_0-auc:0.757293\n",
      "[41]\tvalidation_0-auc:0.757295\n",
      "[42]\tvalidation_0-auc:0.757288\n",
      "[43]\tvalidation_0-auc:0.757308\n",
      "[44]\tvalidation_0-auc:0.757155\n",
      "[45]\tvalidation_0-auc:0.756769\n",
      "[46]\tvalidation_0-auc:0.756411\n",
      "[47]\tvalidation_0-auc:0.756113\n",
      "[48]\tvalidation_0-auc:0.755944\n",
      "[49]\tvalidation_0-auc:0.755788\n",
      "[50]\tvalidation_0-auc:0.755427\n",
      "[51]\tvalidation_0-auc:0.75522\n",
      "[52]\tvalidation_0-auc:0.755098\n",
      "[53]\tvalidation_0-auc:0.75505\n",
      "[54]\tvalidation_0-auc:0.755048\n",
      "[55]\tvalidation_0-auc:0.754992\n",
      "[56]\tvalidation_0-auc:0.754911\n",
      "[57]\tvalidation_0-auc:0.754198\n",
      "[58]\tvalidation_0-auc:0.753964\n",
      "[59]\tvalidation_0-auc:0.753701\n",
      "[60]\tvalidation_0-auc:0.753706\n",
      "[61]\tvalidation_0-auc:0.753653\n",
      "[62]\tvalidation_0-auc:0.753569\n",
      "[63]\tvalidation_0-auc:0.753574\n",
      "[64]\tvalidation_0-auc:0.753512\n",
      "[65]\tvalidation_0-auc:0.753341\n",
      "[66]\tvalidation_0-auc:0.753193\n",
      "[67]\tvalidation_0-auc:0.753926\n",
      "[68]\tvalidation_0-auc:0.753804\n",
      "[69]\tvalidation_0-auc:0.753725\n",
      "[70]\tvalidation_0-auc:0.753514\n",
      "[71]\tvalidation_0-auc:0.75345\n",
      "[72]\tvalidation_0-auc:0.753406\n",
      "[73]\tvalidation_0-auc:0.752853\n",
      "[74]\tvalidation_0-auc:0.752476\n",
      "[75]\tvalidation_0-auc:0.753201\n",
      "[76]\tvalidation_0-auc:0.752927\n",
      "[77]\tvalidation_0-auc:0.752686\n",
      "[78]\tvalidation_0-auc:0.752795\n",
      "[79]\tvalidation_0-auc:0.752526\n",
      "[80]\tvalidation_0-auc:0.756377\n",
      "[81]\tvalidation_0-auc:0.75693\n",
      "[82]\tvalidation_0-auc:0.757331\n",
      "[83]\tvalidation_0-auc:0.756951\n",
      "[84]\tvalidation_0-auc:0.756792\n",
      "[85]\tvalidation_0-auc:0.757661\n",
      "[86]\tvalidation_0-auc:0.757574\n",
      "[87]\tvalidation_0-auc:0.757389\n",
      "[88]\tvalidation_0-auc:0.75717\n",
      "[89]\tvalidation_0-auc:0.75718\n",
      "[90]\tvalidation_0-auc:0.757178\n",
      "[91]\tvalidation_0-auc:0.756762\n",
      "[92]\tvalidation_0-auc:0.75819\n",
      "[93]\tvalidation_0-auc:0.758207\n",
      "[94]\tvalidation_0-auc:0.758033\n",
      "[95]\tvalidation_0-auc:0.758002\n",
      "[96]\tvalidation_0-auc:0.757645\n",
      "[97]\tvalidation_0-auc:0.758287\n",
      "[98]\tvalidation_0-auc:0.758378\n",
      "[99]\tvalidation_0-auc:0.758269\n",
      "[100]\tvalidation_0-auc:0.758153\n",
      "[101]\tvalidation_0-auc:0.758296\n",
      "[102]\tvalidation_0-auc:0.75898\n",
      "[103]\tvalidation_0-auc:0.759074\n",
      "[104]\tvalidation_0-auc:0.758915\n",
      "[105]\tvalidation_0-auc:0.758899\n",
      "[106]\tvalidation_0-auc:0.758626\n",
      "[107]\tvalidation_0-auc:0.75884\n",
      "[108]\tvalidation_0-auc:0.75911\n",
      "[109]\tvalidation_0-auc:0.759027\n",
      "[110]\tvalidation_0-auc:0.758634\n",
      "[111]\tvalidation_0-auc:0.758313\n",
      "[112]\tvalidation_0-auc:0.758212\n",
      "[113]\tvalidation_0-auc:0.758263\n",
      "[114]\tvalidation_0-auc:0.758092\n",
      "[115]\tvalidation_0-auc:0.758546\n",
      "[116]\tvalidation_0-auc:0.758511\n",
      "[117]\tvalidation_0-auc:0.758539\n",
      "[118]\tvalidation_0-auc:0.758259\n",
      "[119]\tvalidation_0-auc:0.758313\n",
      "[120]\tvalidation_0-auc:0.758289\n",
      "[121]\tvalidation_0-auc:0.758395\n",
      "[122]\tvalidation_0-auc:0.758233\n",
      "[123]\tvalidation_0-auc:0.758176\n",
      "[124]\tvalidation_0-auc:0.758023\n",
      "[125]\tvalidation_0-auc:0.757651\n",
      "[126]\tvalidation_0-auc:0.757515\n",
      "[127]\tvalidation_0-auc:0.757224\n",
      "[128]\tvalidation_0-auc:0.75712\n",
      "[129]\tvalidation_0-auc:0.756888\n",
      "[130]\tvalidation_0-auc:0.756784\n",
      "[131]\tvalidation_0-auc:0.756767\n",
      "[132]\tvalidation_0-auc:0.756984\n",
      "[133]\tvalidation_0-auc:0.757098\n",
      "[134]\tvalidation_0-auc:0.756854\n",
      "[135]\tvalidation_0-auc:0.756786\n",
      "[136]\tvalidation_0-auc:0.757284\n",
      "[137]\tvalidation_0-auc:0.757884\n",
      "[138]\tvalidation_0-auc:0.757601\n",
      "[139]\tvalidation_0-auc:0.75742\n",
      "[140]\tvalidation_0-auc:0.757259\n",
      "[141]\tvalidation_0-auc:0.757538\n",
      "[142]\tvalidation_0-auc:0.758277\n",
      "[143]\tvalidation_0-auc:0.757934\n",
      "[144]\tvalidation_0-auc:0.757832\n",
      "[145]\tvalidation_0-auc:0.75814\n",
      "[146]\tvalidation_0-auc:0.758034\n",
      "[147]\tvalidation_0-auc:0.758168\n",
      "[148]\tvalidation_0-auc:0.757973\n",
      "[149]\tvalidation_0-auc:0.75777\n",
      "[150]\tvalidation_0-auc:0.757552\n",
      "[151]\tvalidation_0-auc:0.757458\n",
      "[152]\tvalidation_0-auc:0.757452\n",
      "[153]\tvalidation_0-auc:0.75725\n",
      "[154]\tvalidation_0-auc:0.757363\n",
      "[155]\tvalidation_0-auc:0.757976\n",
      "[156]\tvalidation_0-auc:0.758381\n",
      "[157]\tvalidation_0-auc:0.758325\n",
      "[158]\tvalidation_0-auc:0.758393\n",
      "Stopping. Best iteration:\n",
      "[108]\tvalidation_0-auc:0.75911\n",
      "\n"
     ]
    },
    {
     "data": {
      "text/plain": [
       "XGBClassifier(base_score=0.5, booster='gbtree', colsample_bylevel=1,\n",
       "              colsample_bytree=1, gamma=0, learning_rate=0.01, max_delta_step=0,\n",
       "              max_depth=10, min_child_weight=1, missing=None, n_estimators=2000,\n",
       "              n_jobs=8, nthread=None, objective='binary:logistic',\n",
       "              random_state=1212, reg_alpha=0, reg_lambda=1, scale_pos_weight=1,\n",
       "              seed=None, silent=True, subsample=1)"
      ]
     },
     "execution_count": 23,
     "metadata": {},
     "output_type": "execute_result"
    }
   ],
   "source": [
    "xgb.fit(\n",
    "    x_train,\n",
    "    y_train,\n",
    "    eval_set=[(x_val, y_val)],\n",
    "    early_stopping_rounds=50,\n",
    "    eval_metric=\"auc\",\n",
    "    verbose=True,\n",
    ")"
   ]
  },
  {
   "cell_type": "code",
   "execution_count": 24,
   "metadata": {},
   "outputs": [],
   "source": [
    "y_score_xgb = xgb.predict_proba(x_test)"
   ]
  },
  {
   "cell_type": "markdown",
   "metadata": {},
   "source": [
    "### GradientBoostingClassifier"
   ]
  },
  {
   "cell_type": "code",
   "execution_count": 25,
   "metadata": {},
   "outputs": [],
   "source": [
    "gbc = GradientBoostingClassifier(\n",
    "    learning_rate=0.01,\n",
    "    n_estimators=100,\n",
    "    max_depth=10,\n",
    "    random_state=RANDOM_SEED,\n",
    "    n_iter_no_change=10,\n",
    "    verbose=1\n",
    ")"
   ]
  },
  {
   "cell_type": "code",
   "execution_count": 26,
   "metadata": {},
   "outputs": [
    {
     "name": "stdout",
     "output_type": "stream",
     "text": [
      "      Iter       Train Loss   Remaining Time \n",
      "         1           0.1828            9.15m\n",
      "         2           0.1813            9.04m\n",
      "         3           0.1802            8.96m\n",
      "         4           0.1792            8.86m\n",
      "         5           0.1784            8.77m\n",
      "         6           0.1776            8.63m\n",
      "         7           0.1770            8.55m\n",
      "         8           0.1763            8.50m\n",
      "         9           0.1758            8.38m\n",
      "        10           0.1752            8.30m\n",
      "        20           0.1715            7.22m\n",
      "        30           0.1678            6.40m\n",
      "        40           0.1654            5.51m\n",
      "        50           0.1630            4.59m\n",
      "        60           0.1609            3.69m\n",
      "        70           0.1588            2.80m\n",
      "        80           0.1570            1.87m\n",
      "        90           0.1552           56.63s\n",
      "       100           0.1536            0.00s\n"
     ]
    },
    {
     "data": {
      "text/plain": [
       "GradientBoostingClassifier(criterion='friedman_mse', init=None,\n",
       "                           learning_rate=0.01, loss='deviance', max_depth=10,\n",
       "                           max_features=None, max_leaf_nodes=None,\n",
       "                           min_impurity_decrease=0.0, min_impurity_split=None,\n",
       "                           min_samples_leaf=1, min_samples_split=2,\n",
       "                           min_weight_fraction_leaf=0.0, n_estimators=100,\n",
       "                           n_iter_no_change=10, presort='auto',\n",
       "                           random_state=1212, subsample=1.0, tol=0.0001,\n",
       "                           validation_fraction=0.1, verbose=1,\n",
       "                           warm_start=False)"
      ]
     },
     "execution_count": 26,
     "metadata": {},
     "output_type": "execute_result"
    }
   ],
   "source": [
    "gbc.fit(x_train, y_train)"
   ]
  },
  {
   "cell_type": "code",
   "execution_count": 27,
   "metadata": {},
   "outputs": [],
   "source": [
    "y_score_gdb = gbc.predict_proba(x_test)"
   ]
  },
  {
   "cell_type": "markdown",
   "metadata": {},
   "source": [
    "### RandomForestClassifier"
   ]
  },
  {
   "cell_type": "code",
   "execution_count": 28,
   "metadata": {},
   "outputs": [],
   "source": [
    "rfc = RandomForestClassifier(\n",
    "    n_estimators=2000, max_depth=10, n_jobs=8, random_state=RANDOM_SEED, verbose=1\n",
    ")"
   ]
  },
  {
   "cell_type": "code",
   "execution_count": 29,
   "metadata": {},
   "outputs": [
    {
     "name": "stderr",
     "output_type": "stream",
     "text": [
      "[Parallel(n_jobs=8)]: Using backend ThreadingBackend with 8 concurrent workers.\n",
      "[Parallel(n_jobs=8)]: Done  34 tasks      | elapsed:    0.6s\n",
      "[Parallel(n_jobs=8)]: Done 184 tasks      | elapsed:    2.9s\n",
      "[Parallel(n_jobs=8)]: Done 434 tasks      | elapsed:    6.5s\n",
      "[Parallel(n_jobs=8)]: Done 784 tasks      | elapsed:   11.7s\n",
      "[Parallel(n_jobs=8)]: Done 1234 tasks      | elapsed:   18.9s\n",
      "[Parallel(n_jobs=8)]: Done 1784 tasks      | elapsed:   27.6s\n",
      "[Parallel(n_jobs=8)]: Done 2000 out of 2000 | elapsed:   31.1s finished\n"
     ]
    },
    {
     "data": {
      "text/plain": [
       "RandomForestClassifier(bootstrap=True, class_weight=None, criterion='gini',\n",
       "                       max_depth=10, max_features='auto', max_leaf_nodes=None,\n",
       "                       min_impurity_decrease=0.0, min_impurity_split=None,\n",
       "                       min_samples_leaf=1, min_samples_split=2,\n",
       "                       min_weight_fraction_leaf=0.0, n_estimators=2000,\n",
       "                       n_jobs=8, oob_score=False, random_state=1212, verbose=1,\n",
       "                       warm_start=False)"
      ]
     },
     "execution_count": 29,
     "metadata": {},
     "output_type": "execute_result"
    }
   ],
   "source": [
    "rfc.fit(x_train, y_train)"
   ]
  },
  {
   "cell_type": "code",
   "execution_count": 30,
   "metadata": {},
   "outputs": [
    {
     "name": "stderr",
     "output_type": "stream",
     "text": [
      "[Parallel(n_jobs=8)]: Using backend ThreadingBackend with 8 concurrent workers.\n",
      "[Parallel(n_jobs=8)]: Done  34 tasks      | elapsed:    0.0s\n",
      "[Parallel(n_jobs=8)]: Done 184 tasks      | elapsed:    0.1s\n",
      "[Parallel(n_jobs=8)]: Done 434 tasks      | elapsed:    0.2s\n",
      "[Parallel(n_jobs=8)]: Done 784 tasks      | elapsed:    0.3s\n",
      "[Parallel(n_jobs=8)]: Done 1234 tasks      | elapsed:    0.5s\n",
      "[Parallel(n_jobs=8)]: Done 1784 tasks      | elapsed:    0.7s\n",
      "[Parallel(n_jobs=8)]: Done 2000 out of 2000 | elapsed:    0.8s finished\n"
     ]
    }
   ],
   "source": [
    "y_score_rfc = rfc.predict_proba(x_test)"
   ]
  },
  {
   "cell_type": "markdown",
   "metadata": {},
   "source": [
    "### Support Vector Machine Classifier"
   ]
  },
  {
   "cell_type": "code",
   "execution_count": 31,
   "metadata": {},
   "outputs": [],
   "source": [
    "svc = SVC(\n",
    "    gamma=\"auto\",\n",
    "    kernel=\"rbf\",\n",
    "    max_iter=10e+5,\n",
    "    probability=True,\n",
    "    random_state=RANDOM_SEED,\n",
    "    verbose=1,\n",
    ")"
   ]
  },
  {
   "cell_type": "code",
   "execution_count": 32,
   "metadata": {},
   "outputs": [
    {
     "name": "stdout",
     "output_type": "stream",
     "text": [
      "[LibSVM]"
     ]
    },
    {
     "data": {
      "text/plain": [
       "SVC(C=1.0, cache_size=200, class_weight=None, coef0=0.0,\n",
       "    decision_function_shape='ovr', degree=3, gamma='auto', kernel='rbf',\n",
       "    max_iter=1000000.0, probability=True, random_state=1212, shrinking=True,\n",
       "    tol=0.001, verbose=1)"
      ]
     },
     "execution_count": 32,
     "metadata": {},
     "output_type": "execute_result"
    }
   ],
   "source": [
    "svc.fit(x_train, y_train)"
   ]
  },
  {
   "cell_type": "code",
   "execution_count": 33,
   "metadata": {},
   "outputs": [],
   "source": [
    "y_score_svc = svc.predict_proba(x_test)"
   ]
  },
  {
   "cell_type": "markdown",
   "metadata": {},
   "source": [
    "### Linear Support Vector Machine Classifier"
   ]
  },
  {
   "cell_type": "code",
   "execution_count": 34,
   "metadata": {},
   "outputs": [],
   "source": [
    "lsvc = SVC(\n",
    "    gamma=\"auto\",\n",
    "    kernel=\"linear\",\n",
    "    max_iter=10e+5,\n",
    "    probability=True,\n",
    "    random_state=RANDOM_SEED,\n",
    "    verbose=1,\n",
    ")"
   ]
  },
  {
   "cell_type": "code",
   "execution_count": 35,
   "metadata": {},
   "outputs": [
    {
     "name": "stdout",
     "output_type": "stream",
     "text": [
      "[LibSVM]"
     ]
    },
    {
     "data": {
      "text/plain": [
       "SVC(C=1.0, cache_size=200, class_weight=None, coef0=0.0,\n",
       "    decision_function_shape='ovr', degree=3, gamma='auto', kernel='linear',\n",
       "    max_iter=1000000.0, probability=True, random_state=1212, shrinking=True,\n",
       "    tol=0.001, verbose=1)"
      ]
     },
     "execution_count": 35,
     "metadata": {},
     "output_type": "execute_result"
    }
   ],
   "source": [
    "lsvc.fit(x_train, y_train)"
   ]
  },
  {
   "cell_type": "code",
   "execution_count": 36,
   "metadata": {},
   "outputs": [],
   "source": [
    "y_score_lsvc = lsvc.predict_proba(x_test)"
   ]
  },
  {
   "cell_type": "markdown",
   "metadata": {},
   "source": [
    "## AUC Comparison"
   ]
  },
  {
   "cell_type": "code",
   "execution_count": 37,
   "metadata": {},
   "outputs": [],
   "source": [
    "def plot_roc_curve(y_true, y_score, model_name):\n",
    "    fpr, tpr, _ = roc_curve(y_true, y_score[:, 1])\n",
    "    roc_auc = auc(fpr, tpr)\n",
    "\n",
    "    plt.figure(figsize=(10, 5))\n",
    "    lw = 2\n",
    "    plt.plot(\n",
    "        fpr,\n",
    "        tpr,\n",
    "        color=\"darkorange\",\n",
    "        lw=lw,\n",
    "        label=\"ROC curve for Appetency class (area = %0.2f)\" % roc_auc,\n",
    "    )\n",
    "    plt.plot([0, 1], [0, 1], color=\"navy\", lw=lw, linestyle=\"--\")\n",
    "    plt.xlim([0.0, 1.0])\n",
    "    plt.ylim([0.0, 1.0])\n",
    "    plt.xlabel(\"False Positive Rate\")\n",
    "    plt.ylabel(\"True Positive Rate\")\n",
    "    plt.title(\"Receiver Operating Characteristic for %s model\" % model_name)\n",
    "    plt.legend(loc=\"lower right\")\n",
    "    plt.show()"
   ]
  },
  {
   "cell_type": "code",
   "execution_count": 38,
   "metadata": {},
   "outputs": [
    {
     "data": {
      "image/png": "[encoded data removed]",
      "text/plain": [
       "<Figure size 720x360 with 1 Axes>"
      ]
     },
     "metadata": {
      "needs_background": "light"
     },
     "output_type": "display_data"
    }
   ],
   "source": [
    "plot_roc_curve(y_test, y_score_xgb, \"xGBoost\")"
   ]
  },
  {
   "cell_type": "code",
   "execution_count": 39,
   "metadata": {},
   "outputs": [
    {
     "data": {
      "image/png": "[encoded data removed]",
      "text/plain": [
       "<Figure size 720x360 with 1 Axes>"
      ]
     },
     "metadata": {
      "needs_background": "light"
     },
     "output_type": "display_data"
    }
   ],
   "source": [
    "plot_roc_curve(y_test, y_score_gdb, \"GradientBoosting\")"
   ]
  },
  {
   "cell_type": "code",
   "execution_count": 40,
   "metadata": {},
   "outputs": [
    {
     "data": {
      "image/png": "[encoded data removed]",
      "text/plain": [
       "<Figure size 720x360 with 1 Axes>"
      ]
     },
     "metadata": {
      "needs_background": "light"
     },
     "output_type": "display_data"
    }
   ],
   "source": [
    "plot_roc_curve(y_test, y_score_rfc, \"RandomForest\")"
   ]
  },
  {
   "cell_type": "code",
   "execution_count": 41,
   "metadata": {},
   "outputs": [
    {
     "data": {
      "image/png": "[encoded data removed]",
      "text/plain": [
       "<Figure size 720x360 with 1 Axes>"
      ]
     },
     "metadata": {
      "needs_background": "light"
     },
     "output_type": "display_data"
    }
   ],
   "source": [
    "plot_roc_curve(y_test, y_score_svc, \"SVC\")"
   ]
  },
  {
   "cell_type": "code",
   "execution_count": 42,
   "metadata": {},
   "outputs": [
    {
     "data": {
      "image/png": "[encoded data removed]",
      "text/plain": [
       "<Figure size 720x360 with 1 Axes>"
      ]
     },
     "metadata": {
      "needs_background": "light"
     },
     "output_type": "display_data"
    }
   ],
   "source": [
    "plot_roc_curve(y_test, y_score_lsvc, \"LinearSVC\")"
   ]
  }
 ],
 "metadata": {
  "kernelspec": {
   "display_name": "Python 3",
   "language": "python",
   "name": "python3"
  },
  "language_info": {
   "codemirror_mode": {
    "name": "ipython",
    "version": 3
   },
   "file_extension": ".py",
   "mimetype": "text/x-python",
   "name": "python",
   "nbconvert_exporter": "python",
   "pygments_lexer": "ipython3",
   "version": "3.7.3"
  }
 },
 "nbformat": 4,
 "nbformat_minor": 2
}
